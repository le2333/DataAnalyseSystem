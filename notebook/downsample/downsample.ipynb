{
 "cells": [
  {
   "cell_type": "markdown",
   "metadata": {},
   "source": [
    "# 数据加载"
   ]
  },
  {
   "cell_type": "code",
   "execution_count": null,
   "metadata": {},
   "outputs": [],
   "source": [
    "import os\n",
    "import sys\n",
    "import numpy as np\n",
    "import pandas as pd\n",
    "import matplotlib.pyplot as plt\n",
    "import panel as pn\n",
    "pn.extension()\n",
    "\n",
    "sys.path.append(os.path.abspath('../'))\n",
    "os.environ[\"NUMBA_CUDA_DRIVER\"] = \"C:\\\\Windows\\\\System32\\\\nvcuda.dll\"\n",
    "from util.data_utils import load_csv_folder\n",
    "from util.viz_utils import line_chart"
   ]
  },
  {
   "cell_type": "code",
   "execution_count": null,
   "metadata": {},
   "outputs": [],
   "source": [
    "# 加载数据\n",
    "data_dir = '../../data/sat1'  # 路径可根据实际情况调整\n",
    "dataframes = load_csv_folder(data_dir)\n",
    "file = list(dataframes.keys())[0]  # 选择第一个文件演示\n",
    "df = dataframes[file]\n",
    "print(f'加载数据文件: {file}, 行数: {len(df)}')\n",
    "df.head()"
   ]
  },
  {
   "cell_type": "markdown",
   "metadata": {},
   "source": [
    "# 实验"
   ]
  },
  {
   "cell_type": "code",
   "execution_count": 23,
   "metadata": {},
   "outputs": [],
   "source": [
    "# 分箱算法\n",
    "def group_by_bins(data, bins):\n",
    "    \"\"\"\n",
    "    将数据按箱数进行分组\n",
    "    \n",
    "    参数:\n",
    "        data: DataFrame 或类数组数据\n",
    "        bins: 总箱数，每箱约4个点\n",
    "    \n",
    "    返回:\n",
    "        分箱后的数据\n",
    "    \"\"\"\n",
    "    output=data.copy()\n",
    "\n",
    "    # 确定时间范围\n",
    "    tmin = data.index.min()\n",
    "    tmax = data.index.max()\n",
    "    delta = tmax - tmin\n",
    "    \n",
    "    # 将时间戳映射到整数箱坐标\n",
    "    output['group_idx'] = ((data.index - tmin) / delta * (bins - 1)).round().astype(int)\n",
    "\n",
    "    return output\n",
    "\n",
    "# def group_by_timedelta(data, timedelta):\n",
    "#     output=data.copy()\n",
    "#     return output\n",
    "\n",
    "def group_by_time(data, freq='min'):\n",
    "    \"\"\"\n",
    "    将数据按时间频率进行分组\n",
    "    \n",
    "    参数:\n",
    "        data: DataFrame 或类数组数据\n",
    "        freq: 时间频率，可选值为 'min'、'h'、'd' 等\n",
    "\n",
    "    返回:\n",
    "        分组后的数据\n",
    "    \"\"\"\n",
    "    output=data.copy()\n",
    "    output['group_idx'] = pd.Series(data.index).dt.floor(freq).values\n",
    "\n",
    "    return output\n",
    "\n"
   ]
  },
  {
   "cell_type": "code",
   "execution_count": 27,
   "metadata": {},
   "outputs": [
    {
     "name": "stdout",
     "output_type": "stream",
     "text": [
      "原始数据点数: 2128810, 处理后数据点数: 419024\n",
      "原始数据点数: 2128810, 处理后数据点数: 419024\n",
      "原始数据点数: 2128810, 处理后数据点数: 419024\n",
      "原始数据点数: 2128810, 处理后数据点数: 419024\n",
      "原始数据点数: 2128810, 处理后数据点数: 419024\n",
      "原始数据点数: 2128810, 处理后数据点数: 419024\n",
      "原始数据点数: 2128810, 处理后数据点数: 419024\n",
      "原始数据点数: 2128810, 处理后数据点数: 419024\n",
      "原始数据点数: 2128963, 处理后数据点数: 419024\n",
      "原始数据点数: 2128815, 处理后数据点数: 419024\n",
      "原始数据点数: 2128815, 处理后数据点数: 419024\n",
      "原始数据点数: 2128963, 处理后数据点数: 419024\n"
     ]
    }
   ],
   "source": [
    "def m4(data):\n",
    "    \"\"\"\n",
    "    M4 算法实现，用于可视化保留的方式减少时间序列数据点数\n",
    "    \n",
    "    参数:\n",
    "        data: 分组后数据，要求每组多于4个点\n",
    "    返回:\n",
    "        减采样后的数据\n",
    "    \"\"\"\n",
    "    # 对每个箱计算极值\n",
    "    result_indices = []\n",
    "    value_col = data.columns[0]\n",
    "    \n",
    "    for bin_idx, group in data.groupby('group_idx'):\n",
    "        # print(group)\n",
    "        if len(group) > 0:\n",
    "            # 找到时间最小/最大和值最小/最大的行索引\n",
    "            tmin_idx = group.index.min()\n",
    "            tmax_idx = group.index.max()\n",
    "            vmin_idx = group[value_col].idxmin()\n",
    "            vmax_idx = group[value_col].idxmax()\n",
    "            \n",
    "            # 将这些索引添加到结果中（可能有重复）\n",
    "            result_indices.extend([tmin_idx, tmax_idx, vmin_idx, vmax_idx])\n",
    "    \n",
    "    # 去除重复索引\n",
    "    # result_indices = list(set(result_indices))\n",
    "    # print(result_indices)\n",
    "    # 返回过滤后的数据\n",
    "    result = data.loc[result_indices].drop(columns=['group_idx'])\n",
    "    \n",
    "    print(f\"原始数据点数: {len(data)}, 处理后数据点数: {len(result)}\")\n",
    "    \n",
    "    return result\n",
    "\n",
    "def lttb(data):\n",
    "    pass\n",
    "\n",
    "freq = '5min'\n",
    "\n",
    "downsampled = {}\n",
    "for file in dataframes.keys():\n",
    "    df = dataframes[file]\n",
    "    grouped=group_by_time(df,freq)\n",
    "    downsampled[file] = m4(grouped)"
   ]
  },
  {
   "cell_type": "markdown",
   "metadata": {},
   "source": [
    "# 结果"
   ]
  },
  {
   "cell_type": "code",
   "execution_count": 35,
   "metadata": {},
   "outputs": [
    {
     "ename": "AttributeError",
     "evalue": "'str' object has no attribute 'min'",
     "output_type": "error",
     "traceback": [
      "\u001b[31m---------------------------------------------------------------------------\u001b[39m",
      "\u001b[31mAttributeError\u001b[39m                            Traceback (most recent call last)",
      "\u001b[36mCell\u001b[39m\u001b[36m \u001b[39m\u001b[32mIn[35]\u001b[39m\u001b[32m, line 2\u001b[39m\n\u001b[32m      1\u001b[39m df.index\n\u001b[32m----> \u001b[39m\u001b[32m2\u001b[39m raw=\u001b[43mline_chart\u001b[49m\u001b[43m(\u001b[49m\u001b[43mdataframes\u001b[49m\u001b[43m)\u001b[49m\n\u001b[32m      3\u001b[39m \u001b[38;5;66;03m# cooked=line_chart(downsampled)\u001b[39;00m\n",
      "\u001b[36mFile \u001b[39m\u001b[32mc:\\Users\\TEST\\Desktop\\TSAP\\notebook\\util\\viz_utils.py:32\u001b[39m, in \u001b[36mline_chart\u001b[39m\u001b[34m(dfs, height)\u001b[39m\n\u001b[32m     21\u001b[39m     plot = df.hvplot.line(\n\u001b[32m     22\u001b[39m         \u001b[38;5;66;03m# height=height,\u001b[39;00m\n\u001b[32m     23\u001b[39m         \u001b[38;5;66;03m# responsive=True,\u001b[39;00m\n\u001b[32m   (...)\u001b[39m\u001b[32m     29\u001b[39m         }\n\u001b[32m     30\u001b[39m     )\n\u001b[32m     31\u001b[39m     \u001b[38;5;28;01mreturn\u001b[39;00m plot\n\u001b[32m---> \u001b[39m\u001b[32m32\u001b[39m panel = \u001b[43mpn\u001b[49m\u001b[43m.\u001b[49m\u001b[43mColumn\u001b[49m\u001b[43m(\u001b[49m\u001b[43mselector\u001b[49m\u001b[43m,\u001b[49m\u001b[43m \u001b[49m\u001b[43mplot_line\u001b[49m\u001b[43m)\u001b[49m\n\u001b[32m     33\u001b[39m \u001b[38;5;28;01mreturn\u001b[39;00m panel\n",
      "\u001b[36mFile \u001b[39m\u001b[32md:\\CondaEnvs\\envs\\pytorch_env\\Lib\\site-packages\\panel\\layout\\base.py:375\u001b[39m, in \u001b[36mListLike.__init__\u001b[39m\u001b[34m(self, *objects, **params)\u001b[39m\n\u001b[32m    373\u001b[39m     \u001b[38;5;28;01mif\u001b[39;00m \u001b[38;5;129;01mnot\u001b[39;00m (resolve_ref(objects) \u001b[38;5;129;01mor\u001b[39;00m iscoroutinefunction(objects) \u001b[38;5;129;01mor\u001b[39;00m \u001b[38;5;28misinstance\u001b[39m(objects, Generator)):\n\u001b[32m    374\u001b[39m         params[\u001b[33m'\u001b[39m\u001b[33mobjects\u001b[39m\u001b[33m'\u001b[39m] = \u001b[38;5;28mlist\u001b[39m(objects)\n\u001b[32m--> \u001b[39m\u001b[32m375\u001b[39m \u001b[38;5;28;43msuper\u001b[39;49m\u001b[43m(\u001b[49m\u001b[43m)\u001b[49m\u001b[43m.\u001b[49m\u001b[34;43m__init__\u001b[39;49m\u001b[43m(\u001b[49m\u001b[43m*\u001b[49m\u001b[43m*\u001b[49m\u001b[43mparams\u001b[49m\u001b[43m)\u001b[49m\n",
      "\u001b[36mFile \u001b[39m\u001b[32md:\\CondaEnvs\\envs\\pytorch_env\\Lib\\site-packages\\panel\\reactive.py:639\u001b[39m, in \u001b[36mReactive.__init__\u001b[39m\u001b[34m(self, refs, **params)\u001b[39m\n\u001b[32m    637\u001b[39m     \u001b[38;5;28;01mif\u001b[39;00m refs:\n\u001b[32m    638\u001b[39m         param.bind(\u001b[38;5;28mself\u001b[39m._sync_refs, *refs, watch=\u001b[38;5;28;01mTrue\u001b[39;00m)\n\u001b[32m--> \u001b[39m\u001b[32m639\u001b[39m \u001b[38;5;28;43msuper\u001b[39;49m\u001b[43m(\u001b[49m\u001b[43m)\u001b[49m\u001b[43m.\u001b[49m\u001b[34;43m__init__\u001b[39;49m\u001b[43m(\u001b[49m\u001b[43m*\u001b[49m\u001b[43m*\u001b[49m\u001b[43mparams\u001b[49m\u001b[43m)\u001b[49m\n",
      "\u001b[36mFile \u001b[39m\u001b[32md:\\CondaEnvs\\envs\\pytorch_env\\Lib\\site-packages\\panel\\reactive.py:129\u001b[39m, in \u001b[36mSyncable.__init__\u001b[39m\u001b[34m(self, **params)\u001b[39m\n\u001b[32m    127\u001b[39m \u001b[38;5;28;01mdef\u001b[39;00m\u001b[38;5;250m \u001b[39m\u001b[34m__init__\u001b[39m(\u001b[38;5;28mself\u001b[39m, **params):\n\u001b[32m    128\u001b[39m     \u001b[38;5;28mself\u001b[39m._themer = \u001b[38;5;28;01mNone\u001b[39;00m\n\u001b[32m--> \u001b[39m\u001b[32m129\u001b[39m     \u001b[38;5;28;43msuper\u001b[39;49m\u001b[43m(\u001b[49m\u001b[43m)\u001b[49m\u001b[43m.\u001b[49m\u001b[34;43m__init__\u001b[39;49m\u001b[43m(\u001b[49m\u001b[43m*\u001b[49m\u001b[43m*\u001b[49m\u001b[43mparams\u001b[49m\u001b[43m)\u001b[49m\n\u001b[32m    131\u001b[39m     \u001b[38;5;66;03m# Useful when updating model properties which trigger potentially\u001b[39;00m\n\u001b[32m    132\u001b[39m     \u001b[38;5;66;03m# recursive events\u001b[39;00m\n\u001b[32m    133\u001b[39m     \u001b[38;5;28mself\u001b[39m._updating = \u001b[38;5;28;01mFalse\u001b[39;00m\n",
      "\u001b[36mFile \u001b[39m\u001b[32md:\\CondaEnvs\\envs\\pytorch_env\\Lib\\site-packages\\panel\\viewable.py:732\u001b[39m, in \u001b[36mViewable.__init__\u001b[39m\u001b[34m(self, **params)\u001b[39m\n\u001b[32m    730\u001b[39m \u001b[38;5;28;01mdef\u001b[39;00m\u001b[38;5;250m \u001b[39m\u001b[34m__init__\u001b[39m(\u001b[38;5;28mself\u001b[39m, **params):\n\u001b[32m    731\u001b[39m     hooks = params.pop(\u001b[33m'\u001b[39m\u001b[33mhooks\u001b[39m\u001b[33m'\u001b[39m, [])\n\u001b[32m--> \u001b[39m\u001b[32m732\u001b[39m     \u001b[38;5;28;43msuper\u001b[39;49m\u001b[43m(\u001b[49m\u001b[43m)\u001b[49m\u001b[43m.\u001b[49m\u001b[34;43m__init__\u001b[39;49m\u001b[43m(\u001b[49m\u001b[43m*\u001b[49m\u001b[43m*\u001b[49m\u001b[43mparams\u001b[49m\u001b[43m)\u001b[49m\n\u001b[32m    733\u001b[39m     \u001b[38;5;28mself\u001b[39m._hooks = hooks\n\u001b[32m    735\u001b[39m     \u001b[38;5;28;01mif\u001b[39;00m \u001b[38;5;28mself\u001b[39m.loading:\n",
      "\u001b[36mFile \u001b[39m\u001b[32md:\\CondaEnvs\\envs\\pytorch_env\\Lib\\site-packages\\panel\\viewable.py:563\u001b[39m, in \u001b[36mRenderable.__init__\u001b[39m\u001b[34m(self, **params)\u001b[39m\n\u001b[32m    561\u001b[39m \u001b[38;5;28mself\u001b[39m._comms = {}\n\u001b[32m    562\u001b[39m \u001b[38;5;28mself\u001b[39m._kernels = {}\n\u001b[32m--> \u001b[39m\u001b[32m563\u001b[39m \u001b[38;5;28;43msuper\u001b[39;49m\u001b[43m(\u001b[49m\u001b[43m)\u001b[49m\u001b[43m.\u001b[49m\u001b[34;43m__init__\u001b[39;49m\u001b[43m(\u001b[49m\u001b[43m*\u001b[49m\u001b[43m*\u001b[49m\u001b[43mparams\u001b[49m\u001b[43m)\u001b[49m\n\u001b[32m    564\u001b[39m \u001b[38;5;28mself\u001b[39m._found_links = \u001b[38;5;28mset\u001b[39m()\n\u001b[32m    565\u001b[39m \u001b[38;5;28mself\u001b[39m._logger = logging.getLogger(\u001b[33mf\u001b[39m\u001b[33m'\u001b[39m\u001b[38;5;132;01m{\u001b[39;00m\u001b[34m__name__\u001b[39m\u001b[38;5;132;01m}\u001b[39;00m\u001b[33m.\u001b[39m\u001b[38;5;132;01m{\u001b[39;00m\u001b[38;5;28mtype\u001b[39m(\u001b[38;5;28mself\u001b[39m).\u001b[34m__name__\u001b[39m\u001b[38;5;132;01m}\u001b[39;00m\u001b[33m'\u001b[39m)\n",
      "\u001b[36mFile \u001b[39m\u001b[32md:\\CondaEnvs\\envs\\pytorch_env\\Lib\\site-packages\\panel\\viewable.py:308\u001b[39m, in \u001b[36mLayoutable.__init__\u001b[39m\u001b[34m(self, **params)\u001b[39m\n\u001b[32m    306\u001b[39m \u001b[38;5;28;01mif\u001b[39;00m \u001b[33m'\u001b[39m\u001b[33mdesign\u001b[39m\u001b[33m'\u001b[39m \u001b[38;5;129;01mnot\u001b[39;00m \u001b[38;5;129;01min\u001b[39;00m params \u001b[38;5;129;01mand\u001b[39;00m \u001b[38;5;28mself\u001b[39m.param.design.default \u001b[38;5;129;01mis\u001b[39;00m \u001b[38;5;28;01mNone\u001b[39;00m:\n\u001b[32m    307\u001b[39m     params[\u001b[33m'\u001b[39m\u001b[33mdesign\u001b[39m\u001b[33m'\u001b[39m] = config.design\n\u001b[32m--> \u001b[39m\u001b[32m308\u001b[39m \u001b[38;5;28;43msuper\u001b[39;49m\u001b[43m(\u001b[49m\u001b[43m)\u001b[49m\u001b[43m.\u001b[49m\u001b[34;43m__init__\u001b[39;49m\u001b[43m(\u001b[49m\u001b[43m*\u001b[49m\u001b[43m*\u001b[49m\u001b[43mparams\u001b[49m\u001b[43m)\u001b[49m\n",
      "\u001b[36mFile \u001b[39m\u001b[32md:\\CondaEnvs\\envs\\pytorch_env\\Lib\\site-packages\\param\\parameterized.py:4325\u001b[39m, in \u001b[36mParameterized.__init__\u001b[39m\u001b[34m(self, **params)\u001b[39m\n\u001b[32m   4323\u001b[39m \u001b[38;5;28;01mif\u001b[39;00m \u001b[38;5;28mself\u001b[39m.param.name.default == \u001b[38;5;28mself\u001b[39m.\u001b[34m__class__\u001b[39m.\u001b[34m__name__\u001b[39m:\n\u001b[32m   4324\u001b[39m     \u001b[38;5;28mself\u001b[39m.param._generate_name()\n\u001b[32m-> \u001b[39m\u001b[32m4325\u001b[39m refs, deps = \u001b[38;5;28;43mself\u001b[39;49m\u001b[43m.\u001b[49m\u001b[43mparam\u001b[49m\u001b[43m.\u001b[49m\u001b[43m_setup_params\u001b[49m\u001b[43m(\u001b[49m\u001b[43m*\u001b[49m\u001b[43m*\u001b[49m\u001b[43mparams\u001b[49m\u001b[43m)\u001b[49m\n\u001b[32m   4326\u001b[39m object_count += \u001b[32m1\u001b[39m\n\u001b[32m   4328\u001b[39m \u001b[38;5;28mself\u001b[39m._param__private.initialized = \u001b[38;5;28;01mTrue\u001b[39;00m\n",
      "\u001b[36mFile \u001b[39m\u001b[32md:\\CondaEnvs\\envs\\pytorch_env\\Lib\\site-packages\\param\\parameterized.py:1697\u001b[39m, in \u001b[36mas_uninitialized.<locals>.override_initialization\u001b[39m\u001b[34m(self_, *args, **kw)\u001b[39m\n\u001b[32m   1695\u001b[39m original_initialized = parameterized_instance._param__private.initialized\n\u001b[32m   1696\u001b[39m parameterized_instance._param__private.initialized = \u001b[38;5;28;01mFalse\u001b[39;00m\n\u001b[32m-> \u001b[39m\u001b[32m1697\u001b[39m ret = \u001b[43mfn\u001b[49m\u001b[43m(\u001b[49m\u001b[43mself_\u001b[49m\u001b[43m,\u001b[49m\u001b[43m \u001b[49m\u001b[43m*\u001b[49m\u001b[43margs\u001b[49m\u001b[43m,\u001b[49m\u001b[43m \u001b[49m\u001b[43m*\u001b[49m\u001b[43m*\u001b[49m\u001b[43mkw\u001b[49m\u001b[43m)\u001b[49m\n\u001b[32m   1698\u001b[39m parameterized_instance._param__private.initialized = original_initialized\n\u001b[32m   1699\u001b[39m \u001b[38;5;28;01mreturn\u001b[39;00m ret\n",
      "\u001b[36mFile \u001b[39m\u001b[32md:\\CondaEnvs\\envs\\pytorch_env\\Lib\\site-packages\\param\\parameterized.py:1985\u001b[39m, in \u001b[36mParameters._setup_params\u001b[39m\u001b[34m(self_, **params)\u001b[39m\n\u001b[32m   1983\u001b[39m         deps[name] = ref_deps\n\u001b[32m   1984\u001b[39m     \u001b[38;5;28;01mif\u001b[39;00m \u001b[38;5;129;01mnot\u001b[39;00m is_async \u001b[38;5;129;01mand\u001b[39;00m \u001b[38;5;129;01mnot\u001b[39;00m (resolved \u001b[38;5;129;01mis\u001b[39;00m Undefined \u001b[38;5;129;01mor\u001b[39;00m resolved \u001b[38;5;129;01mis\u001b[39;00m Skip):\n\u001b[32m-> \u001b[39m\u001b[32m1985\u001b[39m         \u001b[38;5;28msetattr\u001b[39m(\u001b[38;5;28mself\u001b[39m, name, resolved)\n\u001b[32m   1986\u001b[39m \u001b[38;5;28;01mreturn\u001b[39;00m refs, deps\n",
      "\u001b[36mFile \u001b[39m\u001b[32md:\\CondaEnvs\\envs\\pytorch_env\\Lib\\site-packages\\param\\parameterized.py:517\u001b[39m, in \u001b[36minstance_descriptor.<locals>._f\u001b[39m\u001b[34m(self, obj, val)\u001b[39m\n\u001b[32m    515\u001b[39m         instance_param.\u001b[34m__set__\u001b[39m(obj, val)\n\u001b[32m    516\u001b[39m         \u001b[38;5;28;01mreturn\u001b[39;00m\n\u001b[32m--> \u001b[39m\u001b[32m517\u001b[39m \u001b[38;5;28;01mreturn\u001b[39;00m \u001b[43mf\u001b[49m\u001b[43m(\u001b[49m\u001b[38;5;28;43mself\u001b[39;49m\u001b[43m,\u001b[49m\u001b[43m \u001b[49m\u001b[43mobj\u001b[49m\u001b[43m,\u001b[49m\u001b[43m \u001b[49m\u001b[43mval\u001b[49m\u001b[43m)\u001b[49m\n",
      "\u001b[36mFile \u001b[39m\u001b[32md:\\CondaEnvs\\envs\\pytorch_env\\Lib\\site-packages\\panel\\viewable.py:1205\u001b[39m, in \u001b[36mChildren.__set__\u001b[39m\u001b[34m(self, obj, val)\u001b[39m\n\u001b[32m   1203\u001b[39m \u001b[38;5;129m@instance_descriptor\u001b[39m\n\u001b[32m   1204\u001b[39m \u001b[38;5;28;01mdef\u001b[39;00m\u001b[38;5;250m \u001b[39m\u001b[34m__set__\u001b[39m(\u001b[38;5;28mself\u001b[39m, obj, val):\n\u001b[32m-> \u001b[39m\u001b[32m1205\u001b[39m     \u001b[38;5;28msuper\u001b[39m().\u001b[34m__set__\u001b[39m(obj, \u001b[38;5;28;43mself\u001b[39;49m\u001b[43m.\u001b[49m\u001b[43m_transform_value\u001b[49m\u001b[43m(\u001b[49m\u001b[43mval\u001b[49m\u001b[43m)\u001b[49m)\n",
      "\u001b[36mFile \u001b[39m\u001b[32md:\\CondaEnvs\\envs\\pytorch_env\\Lib\\site-packages\\panel\\viewable.py:1196\u001b[39m, in \u001b[36mChildren._transform_value\u001b[39m\u001b[34m(self, val)\u001b[39m\n\u001b[32m   1194\u001b[39m mutated = \u001b[38;5;28;01mFalse\u001b[39;00m\n\u001b[32m   1195\u001b[39m \u001b[38;5;28;01mfor\u001b[39;00m v \u001b[38;5;129;01min\u001b[39;00m val:\n\u001b[32m-> \u001b[39m\u001b[32m1196\u001b[39m     n = \u001b[43mpanel\u001b[49m\u001b[43m(\u001b[49m\u001b[43mv\u001b[49m\u001b[43m)\u001b[49m\n\u001b[32m   1197\u001b[39m     mutated |= v \u001b[38;5;129;01mis\u001b[39;00m \u001b[38;5;129;01mnot\u001b[39;00m n\n\u001b[32m   1198\u001b[39m     new.append(n)\n",
      "\u001b[36mFile \u001b[39m\u001b[32md:\\CondaEnvs\\envs\\pytorch_env\\Lib\\site-packages\\panel\\pane\\base.py:87\u001b[39m, in \u001b[36mpanel\u001b[39m\u001b[34m(obj, **kwargs)\u001b[39m\n\u001b[32m     85\u001b[39m \u001b[38;5;28;01mif\u001b[39;00m kwargs.get(\u001b[33m'\u001b[39m\u001b[33mname\u001b[39m\u001b[33m'\u001b[39m, \u001b[38;5;28;01mFalse\u001b[39;00m) \u001b[38;5;129;01mis\u001b[39;00m \u001b[38;5;28;01mNone\u001b[39;00m:\n\u001b[32m     86\u001b[39m     kwargs.pop(\u001b[33m'\u001b[39m\u001b[33mname\u001b[39m\u001b[33m'\u001b[39m)\n\u001b[32m---> \u001b[39m\u001b[32m87\u001b[39m pane = \u001b[43mPaneBase\u001b[49m\u001b[43m.\u001b[49m\u001b[43mget_pane_type\u001b[49m\u001b[43m(\u001b[49m\u001b[43mobj\u001b[49m\u001b[43m,\u001b[49m\u001b[43m \u001b[49m\u001b[43m*\u001b[49m\u001b[43m*\u001b[49m\u001b[43mkwargs\u001b[49m\u001b[43m)\u001b[49m\u001b[43m(\u001b[49m\u001b[43mobj\u001b[49m\u001b[43m,\u001b[49m\u001b[43m \u001b[49m\u001b[43m*\u001b[49m\u001b[43m*\u001b[49m\u001b[43mkwargs\u001b[49m\u001b[43m)\u001b[49m\n\u001b[32m     88\u001b[39m \u001b[38;5;28;01mif\u001b[39;00m \u001b[38;5;28mlen\u001b[39m(pane.layout) == \u001b[32m1\u001b[39m \u001b[38;5;129;01mand\u001b[39;00m pane._unpack:\n\u001b[32m     89\u001b[39m     \u001b[38;5;28;01mreturn\u001b[39;00m pane.layout[\u001b[32m0\u001b[39m]\n",
      "\u001b[36mFile \u001b[39m\u001b[32md:\\CondaEnvs\\envs\\pytorch_env\\Lib\\site-packages\\panel\\param.py:823\u001b[39m, in \u001b[36mParamRef.__init__\u001b[39m\u001b[34m(self, object, **params)\u001b[39m\n\u001b[32m    821\u001b[39m \u001b[38;5;28mself\u001b[39m._validate_object()\n\u001b[32m    822\u001b[39m \u001b[38;5;28;01mif\u001b[39;00m \u001b[38;5;129;01mnot\u001b[39;00m \u001b[38;5;28mself\u001b[39m.defer_load:\n\u001b[32m--> \u001b[39m\u001b[32m823\u001b[39m     \u001b[38;5;28;43mself\u001b[39;49m\u001b[43m.\u001b[49m\u001b[43m_replace_pane\u001b[49m\u001b[43m(\u001b[49m\u001b[43m)\u001b[49m\n",
      "\u001b[36mFile \u001b[39m\u001b[32md:\\CondaEnvs\\envs\\pytorch_env\\Lib\\site-packages\\panel\\param.py:891\u001b[39m, in \u001b[36mParamRef._replace_pane\u001b[39m\u001b[34m(self, force, *args)\u001b[39m\n\u001b[32m    889\u001b[39m \u001b[38;5;28;01melse\u001b[39;00m:\n\u001b[32m    890\u001b[39m     \u001b[38;5;28;01mtry\u001b[39;00m:\n\u001b[32m--> \u001b[39m\u001b[32m891\u001b[39m         new_object = \u001b[38;5;28;43mself\u001b[39;49m\u001b[43m.\u001b[49m\u001b[43meval\u001b[49m\u001b[43m(\u001b[49m\u001b[38;5;28;43mself\u001b[39;49m\u001b[43m.\u001b[49m\u001b[43mobject\u001b[49m\u001b[43m)\u001b[49m\n\u001b[32m    892\u001b[39m         \u001b[38;5;28;01mif\u001b[39;00m new_object \u001b[38;5;129;01mis\u001b[39;00m Skip \u001b[38;5;129;01mand\u001b[39;00m new_object \u001b[38;5;129;01mis\u001b[39;00m Undefined:\n\u001b[32m    893\u001b[39m             \u001b[38;5;28mself\u001b[39m._inner_layout.loading = \u001b[38;5;28;01mFalse\u001b[39;00m\n",
      "\u001b[36mFile \u001b[39m\u001b[32md:\\CondaEnvs\\envs\\pytorch_env\\Lib\\site-packages\\panel\\param.py:1106\u001b[39m, in \u001b[36mParamFunction.eval\u001b[39m\u001b[34m(self, ref)\u001b[39m\n\u001b[32m   1104\u001b[39m \u001b[38;5;129m@classmethod\u001b[39m\n\u001b[32m   1105\u001b[39m \u001b[38;5;28;01mdef\u001b[39;00m\u001b[38;5;250m \u001b[39m\u001b[34meval\u001b[39m(\u001b[38;5;28mself\u001b[39m, ref):\n\u001b[32m-> \u001b[39m\u001b[32m1106\u001b[39m     \u001b[38;5;28;01mreturn\u001b[39;00m \u001b[43meval_function_with_deps\u001b[49m\u001b[43m(\u001b[49m\u001b[43mref\u001b[49m\u001b[43m)\u001b[49m\n",
      "\u001b[36mFile \u001b[39m\u001b[32md:\\CondaEnvs\\envs\\pytorch_env\\Lib\\site-packages\\param\\parameterized.py:163\u001b[39m, in \u001b[36meval_function_with_deps\u001b[39m\u001b[34m(function)\u001b[39m\n\u001b[32m    161\u001b[39m         args = (\u001b[38;5;28mgetattr\u001b[39m(dep.owner, dep.name) \u001b[38;5;28;01mfor\u001b[39;00m dep \u001b[38;5;129;01min\u001b[39;00m arg_deps)\n\u001b[32m    162\u001b[39m         kwargs = {n: \u001b[38;5;28mgetattr\u001b[39m(dep.owner, dep.name) \u001b[38;5;28;01mfor\u001b[39;00m n, dep \u001b[38;5;129;01min\u001b[39;00m kw_deps.items()}\n\u001b[32m--> \u001b[39m\u001b[32m163\u001b[39m \u001b[38;5;28;01mreturn\u001b[39;00m \u001b[43mfunction\u001b[49m\u001b[43m(\u001b[49m\u001b[43m*\u001b[49m\u001b[43margs\u001b[49m\u001b[43m,\u001b[49m\u001b[43m \u001b[49m\u001b[43m*\u001b[49m\u001b[43m*\u001b[49m\u001b[43mkwargs\u001b[49m\u001b[43m)\u001b[49m\n",
      "\u001b[36mFile \u001b[39m\u001b[32md:\\CondaEnvs\\envs\\pytorch_env\\Lib\\site-packages\\param\\depends.py:85\u001b[39m, in \u001b[36mdepends.<locals>._depends\u001b[39m\u001b[34m(*args, **kw)\u001b[39m\n\u001b[32m     83\u001b[39m \u001b[38;5;129m@wraps\u001b[39m(func)\n\u001b[32m     84\u001b[39m \u001b[38;5;28;01mdef\u001b[39;00m\u001b[38;5;250m \u001b[39m\u001b[34m_depends\u001b[39m(*args, **kw):\n\u001b[32m---> \u001b[39m\u001b[32m85\u001b[39m     \u001b[38;5;28;01mreturn\u001b[39;00m \u001b[43mfunc\u001b[49m\u001b[43m(\u001b[49m\u001b[43m*\u001b[49m\u001b[43margs\u001b[49m\u001b[43m,\u001b[49m\u001b[43m \u001b[49m\u001b[43m*\u001b[49m\u001b[43m*\u001b[49m\u001b[43mkw\u001b[49m\u001b[43m)\u001b[49m\n",
      "\u001b[36mFile \u001b[39m\u001b[32mc:\\Users\\TEST\\Desktop\\TSAP\\notebook\\util\\viz_utils.py:28\u001b[39m, in \u001b[36mline_chart.<locals>.plot_line\u001b[39m\u001b[34m(value)\u001b[39m\n\u001b[32m     18\u001b[39m \u001b[38;5;129m@pn\u001b[39m.depends(selector.param.value)\n\u001b[32m     19\u001b[39m \u001b[38;5;28;01mdef\u001b[39;00m\u001b[38;5;250m \u001b[39m\u001b[34mplot_line\u001b[39m(value):\n\u001b[32m     20\u001b[39m     df=dfs[value]\n\u001b[32m     21\u001b[39m     plot = df.hvplot.line(\n\u001b[32m     22\u001b[39m         \u001b[38;5;66;03m# height=height,\u001b[39;00m\n\u001b[32m     23\u001b[39m         \u001b[38;5;66;03m# responsive=True,\u001b[39;00m\n\u001b[32m     24\u001b[39m         downsample=\u001b[38;5;28;01mTrue\u001b[39;00m\n\u001b[32m     25\u001b[39m     ).opts(\n\u001b[32m     26\u001b[39m         backend_opts={\n\u001b[32m     27\u001b[39m             \u001b[33m\"\u001b[39m\u001b[33mx_range.bounds\u001b[39m\u001b[33m\"\u001b[39m: (df.index.min(), df.index.max()), \u001b[38;5;66;03m# optional: limit max viewable x-extent to data\u001b[39;00m\n\u001b[32m---> \u001b[39m\u001b[32m28\u001b[39m             \u001b[33m\"\u001b[39m\u001b[33my_range.bounds\u001b[39m\u001b[33m\"\u001b[39m: (\u001b[43mdf\u001b[49m\u001b[43m.\u001b[49m\u001b[43mcolumns\u001b[49m\u001b[43m[\u001b[49m\u001b[32;43m0\u001b[39;49m\u001b[43m]\u001b[49m\u001b[43m.\u001b[49m\u001b[43mmin\u001b[49m()-\u001b[32m1\u001b[39m, df.columns[\u001b[32m0\u001b[39m].max()+\u001b[32m1\u001b[39m), \u001b[38;5;66;03m# optional: limit max viewable y-extent to data\u001b[39;00m\n\u001b[32m     29\u001b[39m         }\n\u001b[32m     30\u001b[39m     )\n\u001b[32m     31\u001b[39m     \u001b[38;5;28;01mreturn\u001b[39;00m plot\n",
      "\u001b[31mAttributeError\u001b[39m: 'str' object has no attribute 'min'"
     ]
    }
   ],
   "source": [
    "df.index\n",
    "raw=line_chart(dataframes)\n",
    "# cooked=line_chart(downsampled)"
   ]
  }
 ],
 "metadata": {
  "kernelspec": {
   "display_name": "pytorch_env",
   "language": "python",
   "name": "python3"
  },
  "language_info": {
   "codemirror_mode": {
    "name": "ipython",
    "version": 3
   },
   "file_extension": ".py",
   "mimetype": "text/x-python",
   "name": "python",
   "nbconvert_exporter": "python",
   "pygments_lexer": "ipython3",
   "version": "3.11.11"
  }
 },
 "nbformat": 4,
 "nbformat_minor": 2
}
