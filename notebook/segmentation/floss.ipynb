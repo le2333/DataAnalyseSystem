{
 "cells": [
  {
   "cell_type": "markdown",
   "metadata": {},
   "source": [
    "# 初始化"
   ]
  },
  {
   "cell_type": "code",
   "execution_count": null,
   "metadata": {},
   "outputs": [],
   "source": [
    "import os\n",
    "import sys\n",
    "import numpy as np\n",
    "import pandas as pd\n",
    "import matplotlib.pyplot as plt\n",
    "import panel as pn\n",
    "pn.extension()\n",
    "\n",
    "sys.path.append(os.path.abspath('../'))\n",
    "os.environ[\"NUMBA_CUDA_DRIVER\"] = \"C:\\\\Windows\\\\System32\\\\nvcuda.dll\"\n"
   ]
  },
  {
   "cell_type": "code",
   "execution_count": null,
   "metadata": {},
   "outputs": [],
   "source": [
    "from util.data_utils import load_csv_folder\n",
    "\n",
    "# 加载数据\n",
    "data_dir = '../../data/sat1'  # 路径可根据实际情况调整\n",
    "dataframes = load_csv_folder(data_dir)\n",
    "file = list(dataframes.keys())[0]  # 选择第一个文件演示\n",
    "df = dataframes[file]\n",
    "print(f'加载数据文件: {file}, 行数: {len(df)}')\n",
    "df.head()"
   ]
  },
  {
   "cell_type": "markdown",
   "metadata": {},
   "source": [
    "# 预处理"
   ]
  },
  {
   "cell_type": "code",
   "execution_count": null,
   "metadata": {},
   "outputs": [],
   "source": [
    "from downsample.downsample import lttb\n",
    "\n",
    "n=105120\n",
    "downsampled = {}\n",
    "for file in dataframes.keys():\n",
    "    df = dataframes[file]\n",
    "    downsampled[file] = lttb(df,n)"
   ]
  },
  {
   "cell_type": "markdown",
   "metadata": {},
   "source": [
    "# 实验"
   ]
  },
  {
   "cell_type": "code",
   "execution_count": 54,
   "metadata": {},
   "outputs": [],
   "source": [
    "import stumpy\n",
    "import numpy as np\n",
    "\n",
    "m=288\n",
    "L=m\n",
    "n=4\n",
    "\n",
    "\n",
    "results = {}\n",
    "for file in downsampled.keys():\n",
    "    # 数据加载\n",
    "    ay=downsampled[file].values.ravel()\n",
    "\n",
    "    # 计算\n",
    "    mp=stumpy.stump(ay, m=m)\n",
    "    cac=stumpy.fluss(mp[:,1],L,n)\n",
    "\n",
    "    # 结果保存\n",
    "    length = min(len(ay),len(mp),len(cac[0]))\n",
    "\n",
    "    result = downsampled[file].iloc[(len(ay)-length):].copy()\n",
    "    result.rename(columns={file:'raw'},inplace=True)\n",
    "    result['mp']=mp[len(mp)-length:,0]\n",
    "    result['mpi']=mp[len(mp)-length:,1]\n",
    "    result['mpl']=mp[len(mp)-length:,2]\n",
    "    result['mpr']=mp[len(mp)-length:,3]\n",
    "    result['cac']=cac[0]\n",
    "    result['flag']=0\n",
    "    result.iloc[cac[1],-1]=1\n",
    "    \n",
    "    results[file]=result\n"
   ]
  },
  {
   "cell_type": "markdown",
   "metadata": {},
   "source": [
    "# 可视化"
   ]
  },
  {
   "cell_type": "code",
   "execution_count": null,
   "metadata": {},
   "outputs": [],
   "source": [
    "import panel as pn\n",
    "import hvplot.pandas\n",
    "\n",
    "channel_selector = pn.widgets.Select(name=\"选择数据\")\n",
    "channel_selector.options = list(results.keys())\n",
    "channel_selector.value = list(results.keys())[0]\n",
    "\n",
    "data_selector = pn.widgets.MultiSelect(name=\"选择数据\")\n",
    "data_selector.options = list(results[channel_selector.value].columns)\n",
    "\n",
    "def plot_line(dfs, channel, name):\n",
    "    df = dfs[channel]\n",
    "    plot = df[name].hvplot.line(\n",
    "        title=name,\n",
    "        width=1000,\n",
    "        height=300,\n",
    "    ).opts(\n",
    "        # toolbar='disable',\n",
    "        backend_opts={\n",
    "            \"x_range.bounds\": (\n",
    "                df.index.min(),\n",
    "                df.index.max(),\n",
    "            ),  # optional: limit max viewable x-extent to data\n",
    "            \"y_range.bounds\": (\n",
    "                df[name].min().item() - 1,\n",
    "                df[name].max().item() + 1,\n",
    "            ),  # optional: limit max viewable y-extent to data\n",
    "        }\n",
    "    )\n",
    "    return plot\n",
    "\n",
    "\n",
    "@pn.depends(channel_selector.param.value, data_selector.param.value)\n",
    "def chart(channel,data):\n",
    "    if channel is None or data is None:\n",
    "        return pn.Column()\n",
    "    charts=[]\n",
    "    for d in data:\n",
    "        charts.append(plot_line(results,channel,d))\n",
    "    return pn.Column(*charts)\n",
    "\n",
    "\n",
    "panel = pn.Column(pn.Row(channel_selector,data_selector), chart)\n",
    "panel"
   ]
  },
  {
   "cell_type": "markdown",
   "metadata": {},
   "source": [
    "# 分析"
   ]
  }
 ],
 "metadata": {
  "kernelspec": {
   "display_name": "pytorch_env",
   "language": "python",
   "name": "python3"
  },
  "language_info": {
   "codemirror_mode": {
    "name": "ipython",
    "version": 3
   },
   "file_extension": ".py",
   "mimetype": "text/x-python",
   "name": "python",
   "nbconvert_exporter": "python",
   "pygments_lexer": "ipython3",
   "version": "3.11.11"
  }
 },
 "nbformat": 4,
 "nbformat_minor": 2
}
